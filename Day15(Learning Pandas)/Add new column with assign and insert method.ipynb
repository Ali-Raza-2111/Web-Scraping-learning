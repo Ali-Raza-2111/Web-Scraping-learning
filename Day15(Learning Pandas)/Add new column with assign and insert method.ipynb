{
 "cells": [
  {
   "cell_type": "code",
   "execution_count": 1,
   "id": "cfd3f3d6",
   "metadata": {},
   "outputs": [],
   "source": [
    "import pandas as pd"
   ]
  },
  {
   "cell_type": "markdown",
   "id": "b2cce62b",
   "metadata": {},
   "source": [
    "Adding data using insert method"
   ]
  },
  {
   "cell_type": "code",
   "execution_count": null,
   "id": "67315dfc",
   "metadata": {},
   "outputs": [],
   "source": [
    "data = {\n",
    "    'Name': ['Alice', 'Bob', 'Charlie', 'David'],\n",
    "    'Age': [25, 30, 35, 40],\n",
    "    'City': ['New York', 'London', 'Paris', 'Tokyo']\n",
    "}\n",
    "df = pd.DataFrame(data)\n",
    "print(\"Original DataFrame:\")\n",
    "print(df)\n",
    "print(\"-\" * 30)\n",
    "#adding new column with assign method\n",
    "df = df.assign(Gender=['Female', 'Male', 'Male', 'Male'])\n",
    "print(\"Adding new column with assign method:\")\n",
    "print(df)"
   ]
  },
  {
   "cell_type": "markdown",
   "id": "8178c5b0",
   "metadata": {},
   "source": [
    "Adding Data using insert method"
   ]
  },
  {
   "cell_type": "code",
   "execution_count": 10,
   "id": "0fafbdf5",
   "metadata": {},
   "outputs": [
    {
     "name": "stdout",
     "output_type": "stream",
     "text": [
      "Original DataFrame:\n",
      "      Name  Age      City\n",
      "0    Alice   25  New York\n",
      "1      Bob   30    London\n",
      "2  Charlie   35     Paris\n",
      "3    David   40     Tokyo\n",
      "------------------------------\n",
      "Adding new column with insert method:\n",
      "      Name  Gender  Age      City\n",
      "0    Alice  Female   25  New York\n",
      "1      Bob    Male   30    London\n",
      "2  Charlie    Male   35     Paris\n",
      "3    David  Female   40     Tokyo\n"
     ]
    }
   ],
   "source": [
    "data = {\n",
    "    'Name': ['Alice', 'Bob', 'Charlie', 'David'],\n",
    "    'Age': [25, 30, 35, 40],\n",
    "    'City': ['New York', 'London', 'Paris', 'Tokyo']\n",
    "}\n",
    "df = pd.DataFrame(data)\n",
    "print(\"Original DataFrame:\")\n",
    "print(df)\n",
    "print(\"-\" * 30)\n",
    "#adding new column with insert method\n",
    "gender_data = ['Female', 'Male', 'Male', 'Female']\n",
    "df.insert(loc=1, column='Gender', value=gender_data)\n",
    "print(\"Adding new column with insert method:\")\n",
    "print(df)"
   ]
  },
  {
   "cell_type": "code",
   "execution_count": null,
   "id": "8a8d42a4",
   "metadata": {},
   "outputs": [
    {
     "name": "stdout",
     "output_type": "stream",
     "text": [
      "Original DataFrame:\n",
      "   Name  Age\n",
      "0   Ali   25\n",
      "1  Sara   30\n",
      "2  John   22\n",
      "   Name  Age  Passed\n",
      "0   Ali   25    True\n",
      "1  Sara   30    True\n",
      "2  John   22   False\n"
     ]
    },
    {
     "data": {
      "text/html": [
       "<div>\n",
       "<style scoped>\n",
       "    .dataframe tbody tr th:only-of-type {\n",
       "        vertical-align: middle;\n",
       "    }\n",
       "\n",
       "    .dataframe tbody tr th {\n",
       "        vertical-align: top;\n",
       "    }\n",
       "\n",
       "    .dataframe thead th {\n",
       "        text-align: right;\n",
       "    }\n",
       "</style>\n",
       "<table border=\"1\" class=\"dataframe\">\n",
       "  <thead>\n",
       "    <tr style=\"text-align: right;\">\n",
       "      <th></th>\n",
       "      <th>Name</th>\n",
       "      <th>Age</th>\n",
       "      <th>Email</th>\n",
       "      <th>Experience</th>\n",
       "      <th>Graduated</th>\n",
       "    </tr>\n",
       "  </thead>\n",
       "  <tbody>\n",
       "    <tr>\n",
       "      <th>0</th>\n",
       "      <td>Ali</td>\n",
       "      <td>25</td>\n",
       "      <td>a@a.com</td>\n",
       "      <td>2</td>\n",
       "      <td>True</td>\n",
       "    </tr>\n",
       "    <tr>\n",
       "      <th>1</th>\n",
       "      <td>Sara</td>\n",
       "      <td>30</td>\n",
       "      <td>b@b.com</td>\n",
       "      <td>4</td>\n",
       "      <td>True</td>\n",
       "    </tr>\n",
       "    <tr>\n",
       "      <th>2</th>\n",
       "      <td>John</td>\n",
       "      <td>22</td>\n",
       "      <td>c@c.com</td>\n",
       "      <td>1</td>\n",
       "      <td>False</td>\n",
       "    </tr>\n",
       "  </tbody>\n",
       "</table>\n",
       "</div>"
      ],
      "text/plain": [
       "   Name  Age    Email  Experience  Graduated\n",
       "0   Ali   25  a@a.com           2       True\n",
       "1  Sara   30  b@b.com           4       True\n",
       "2  John   22  c@c.com           1      False"
      ]
     },
     "execution_count": 9,
     "metadata": {},
     "output_type": "execute_result"
    }
   ],
   "source": [
    "import pandas as pd\n",
    "\n",
    "# Create a sample DataFrame\n",
    "df = pd.DataFrame({\n",
    "    'Name': ['Ali', 'Sara', 'John'],\n",
    "    'Age': [25, 30, 22]\n",
    "})\n",
    "\n",
    "print(\"Original DataFrame:\")\n",
    "print(df)\n",
    "\n",
    "# 🧠 PRACTICE QUESTIONS FOR assign():\n",
    "# Q1: Use assign() to add a column 'Score' with values [88, 92, 95].\n",
    "df_Score = df.assign(Score = [88,92,95])\n",
    "# Q2: Use assign() to add a column 'Passed' with boolean values based on 'Age' > 24.\n",
    "df_Passed = df.assign(Passed = df['Age'] > 24)\n",
    "# Q3: Use assign() to add a column 'Email' with values like ['ali@mail.com', 'sara@mail.com', 'john@mail.com'].\n",
    "df_Email = df.assign(Email = ['ali@mail.com', 'sara@mail.com', 'john@mail.com'])\n",
    "\n",
    "# 🧠 PRACTICE QUESTIONS FOR insert():\n",
    "# Q1: Insert a column 'Email' at position 2 with values ['a@a.com', 'b@b.com', 'c@c.com'].\n",
    "df.insert(2,'Email',['a@a.com', 'b@b.com', 'c@c.com'])\n",
    "\n",
    "# Q2: Insert a column 'Graduated' at the end with [True, True, False].\n",
    "df.insert(len(df),'Graduated',[True, True, False])\n",
    "# Q3: Insert a column 'Experience' at position 3 with values [2, 4, 1].\n",
    "df.insert(3,\"Experience\",[2, 4, 1])\n",
    "df"
   ]
  },
  {
   "cell_type": "code",
   "execution_count": null,
   "id": "e03014ef",
   "metadata": {},
   "outputs": [],
   "source": []
  }
 ],
 "metadata": {
  "kernelspec": {
   "display_name": "Python 3",
   "language": "python",
   "name": "python3"
  },
  "language_info": {
   "codemirror_mode": {
    "name": "ipython",
    "version": 3
   },
   "file_extension": ".py",
   "mimetype": "text/x-python",
   "name": "python",
   "nbconvert_exporter": "python",
   "pygments_lexer": "ipython3",
   "version": "3.12.10"
  }
 },
 "nbformat": 4,
 "nbformat_minor": 5
}
