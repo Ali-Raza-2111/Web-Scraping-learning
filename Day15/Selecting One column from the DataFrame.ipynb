{
 "cells": [
  {
   "cell_type": "code",
   "execution_count": 1,
   "id": "9436163a",
   "metadata": {},
   "outputs": [],
   "source": [
    "import pandas as pd"
   ]
  },
  {
   "cell_type": "code",
   "execution_count": 2,
   "id": "3f285ab8",
   "metadata": {},
   "outputs": [
    {
     "data": {
      "text/html": [
       "<div>\n",
       "<style scoped>\n",
       "    .dataframe tbody tr th:only-of-type {\n",
       "        vertical-align: middle;\n",
       "    }\n",
       "\n",
       "    .dataframe tbody tr th {\n",
       "        vertical-align: top;\n",
       "    }\n",
       "\n",
       "    .dataframe thead th {\n",
       "        text-align: right;\n",
       "    }\n",
       "</style>\n",
       "<table border=\"1\" class=\"dataframe\">\n",
       "  <thead>\n",
       "    <tr style=\"text-align: right;\">\n",
       "      <th></th>\n",
       "      <th>gender</th>\n",
       "      <th>race/ethnicity</th>\n",
       "      <th>parental level of education</th>\n",
       "      <th>lunch</th>\n",
       "      <th>test preparation course</th>\n",
       "      <th>math score</th>\n",
       "      <th>reading score</th>\n",
       "      <th>writing score</th>\n",
       "    </tr>\n",
       "  </thead>\n",
       "  <tbody>\n",
       "    <tr>\n",
       "      <th>0</th>\n",
       "      <td>female</td>\n",
       "      <td>group B</td>\n",
       "      <td>bachelor's degree</td>\n",
       "      <td>standard</td>\n",
       "      <td>none</td>\n",
       "      <td>72</td>\n",
       "      <td>72</td>\n",
       "      <td>74</td>\n",
       "    </tr>\n",
       "    <tr>\n",
       "      <th>1</th>\n",
       "      <td>female</td>\n",
       "      <td>group C</td>\n",
       "      <td>some college</td>\n",
       "      <td>standard</td>\n",
       "      <td>completed</td>\n",
       "      <td>69</td>\n",
       "      <td>90</td>\n",
       "      <td>88</td>\n",
       "    </tr>\n",
       "    <tr>\n",
       "      <th>2</th>\n",
       "      <td>female</td>\n",
       "      <td>group B</td>\n",
       "      <td>master's degree</td>\n",
       "      <td>standard</td>\n",
       "      <td>none</td>\n",
       "      <td>90</td>\n",
       "      <td>95</td>\n",
       "      <td>93</td>\n",
       "    </tr>\n",
       "    <tr>\n",
       "      <th>3</th>\n",
       "      <td>male</td>\n",
       "      <td>group A</td>\n",
       "      <td>associate's degree</td>\n",
       "      <td>free/reduced</td>\n",
       "      <td>none</td>\n",
       "      <td>47</td>\n",
       "      <td>57</td>\n",
       "      <td>44</td>\n",
       "    </tr>\n",
       "    <tr>\n",
       "      <th>4</th>\n",
       "      <td>male</td>\n",
       "      <td>group C</td>\n",
       "      <td>some college</td>\n",
       "      <td>standard</td>\n",
       "      <td>none</td>\n",
       "      <td>76</td>\n",
       "      <td>78</td>\n",
       "      <td>75</td>\n",
       "    </tr>\n",
       "  </tbody>\n",
       "</table>\n",
       "</div>"
      ],
      "text/plain": [
       "   gender race/ethnicity parental level of education         lunch  \\\n",
       "0  female        group B           bachelor's degree      standard   \n",
       "1  female        group C                some college      standard   \n",
       "2  female        group B             master's degree      standard   \n",
       "3    male        group A          associate's degree  free/reduced   \n",
       "4    male        group C                some college      standard   \n",
       "\n",
       "  test preparation course  math score  reading score  writing score  \n",
       "0                    none          72             72             74  \n",
       "1               completed          69             90             88  \n",
       "2                    none          90             95             93  \n",
       "3                    none          47             57             44  \n",
       "4                    none          76             78             75  "
      ]
     },
     "execution_count": 2,
     "metadata": {},
     "output_type": "execute_result"
    }
   ],
   "source": [
    "df_exams = pd.read_csv('./StudentsPerformance.csv')\n",
    "df_exams.head()"
   ]
  },
  {
   "cell_type": "code",
   "execution_count": null,
   "id": "209f97ec",
   "metadata": {},
   "outputs": [
    {
     "data": {
      "text/plain": [
       "0    female\n",
       "1    female\n",
       "2    female\n",
       "3      male\n",
       "4      male\n",
       "Name: gender, dtype: object"
      ]
     },
     "execution_count": 4,
     "metadata": {},
     "output_type": "execute_result"
    }
   ],
   "source": [
    "#it returns the column as a series\n",
    "df_exams['gender']"
   ]
  },
  {
   "cell_type": "code",
   "execution_count": 8,
   "id": "a8545399",
   "metadata": {},
   "outputs": [
    {
     "name": "stdout",
     "output_type": "stream",
     "text": [
      "Here's your DataFrame:\n",
      "      Name  Age         City Occupation\n",
      "0    Alice   24     New York   Engineer\n",
      "1      Bob   30  Los Angeles     Artist\n",
      "2  Charlie   22      Chicago    Student\n",
      "3    David   35      Houston     Doctor\n",
      "4      Eve   28        Miami   Designer\n",
      "\n",
      "\n",
      "Practice Question 1:\n",
      "Select the 'City' column from the DataFrame.\n",
      "0       New York\n",
      "1    Los Angeles\n",
      "2        Chicago\n",
      "3        Houston\n",
      "4          Miami\n",
      "Name: City, dtype: object\n",
      "\n",
      "Practice Question 2:\n",
      "Select the 'Occupation' column from the DataFrame.\n",
      "0    Engineer\n",
      "1      Artist\n",
      "2     Student\n",
      "3      Doctor\n",
      "4    Designer\n",
      "Name: Occupation, dtype: object\n",
      "\n",
      "Practice Question 3:\n",
      "Select the 'Age' column from the DataFrame.\n",
      "0    24\n",
      "1    30\n",
      "2    22\n",
      "3    35\n",
      "4    28\n",
      "Name: Age, dtype: int64\n"
     ]
    }
   ],
   "source": [
    "import pandas as pd\n",
    "\n",
    "# Create the DataFrame\n",
    "data = {\n",
    "    'Name': ['Alice', 'Bob', 'Charlie', 'David', 'Eve'],\n",
    "    'Age': [24, 30, 22, 35, 28],\n",
    "    'City': ['New York', 'Los Angeles', 'Chicago', 'Houston', 'Miami'],\n",
    "    'Occupation': ['Engineer', 'Artist', 'Student', 'Doctor', 'Designer']\n",
    "}\n",
    "df = pd.DataFrame(data)\n",
    "\n",
    "print(\"Here's your DataFrame:\")\n",
    "print(df)\n",
    "print(\"\\n\")\n",
    "\n",
    "# Practice Questions:\n",
    "print(\"Practice Question 1:\")\n",
    "print(\"Select the 'City' column from the DataFrame.\")\n",
    "print(df['City'])\n",
    "print(\"\\nPractice Question 2:\")\n",
    "print(\"Select the 'Occupation' column from the DataFrame.\")\n",
    "print(df['Occupation'])\n",
    "print(\"\\nPractice Question 3:\")\n",
    "print(\"Select the 'Age' column from the DataFrame.\")\n",
    "print(df['Age'])"
   ]
  }
 ],
 "metadata": {
  "kernelspec": {
   "display_name": "Python 3",
   "language": "python",
   "name": "python3"
  },
  "language_info": {
   "codemirror_mode": {
    "name": "ipython",
    "version": 3
   },
   "file_extension": ".py",
   "mimetype": "text/x-python",
   "name": "python",
   "nbconvert_exporter": "python",
   "pygments_lexer": "ipython3",
   "version": "3.10.7"
  }
 },
 "nbformat": 4,
 "nbformat_minor": 5
}
