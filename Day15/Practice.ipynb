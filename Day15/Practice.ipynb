{
 "cells": [
  {
   "cell_type": "code",
   "execution_count": 4,
   "id": "dd5a3f56",
   "metadata": {},
   "outputs": [],
   "source": [
    "import pandas as pd\n",
    "import numpy as np\n"
   ]
  },
  {
   "cell_type": "markdown",
   "id": "9d3e571a",
   "metadata": {},
   "source": [
    "OPTION 1"
   ]
  },
  {
   "cell_type": "code",
   "execution_count": 9,
   "id": "2afca6c6",
   "metadata": {},
   "outputs": [],
   "source": [
    "data = np.array([[1,4],[2,5],[3,6]])"
   ]
  },
  {
   "cell_type": "code",
   "execution_count": 10,
   "id": "aedc428e",
   "metadata": {},
   "outputs": [
    {
     "name": "stdout",
     "output_type": "stream",
     "text": [
      "      Column1  Column2\n",
      "Row1        1        4\n",
      "Row2        2        5\n",
      "Row3        3        6\n"
     ]
    }
   ],
   "source": [
    "#Creating a dataFrame\n",
    "df = pd.DataFrame(data,index = [\"Row1\",\"Row2\",\"Row3\"],columns = [\"Column1\",\"Column2\"])\n",
    "print(df)\n"
   ]
  }
 ],
 "metadata": {
  "kernelspec": {
   "display_name": "Python 3",
   "language": "python",
   "name": "python3"
  },
  "language_info": {
   "codemirror_mode": {
    "name": "ipython",
    "version": 3
   },
   "file_extension": ".py",
   "mimetype": "text/x-python",
   "name": "python",
   "nbconvert_exporter": "python",
   "pygments_lexer": "ipython3",
   "version": "3.12.10"
  }
 },
 "nbformat": 4,
 "nbformat_minor": 5
}
