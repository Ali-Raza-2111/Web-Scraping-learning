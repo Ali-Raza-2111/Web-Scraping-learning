{
 "cells": [
  {
   "cell_type": "code",
   "execution_count": 1,
   "id": "dd5a3f56",
   "metadata": {},
   "outputs": [],
   "source": [
    "import pandas as pd\n",
    "import numpy as np"
   ]
  },
  {
   "cell_type": "markdown",
   "id": "9d3e571a",
   "metadata": {},
   "source": [
    "OPTION 1"
   ]
  },
  {
   "cell_type": "code",
   "execution_count": 9,
   "id": "2afca6c6",
   "metadata": {},
   "outputs": [],
   "source": [
    "data = np.array([[1,4],[2,5],[3,6]])"
   ]
  },
  {
   "cell_type": "code",
   "execution_count": 10,
   "id": "aedc428e",
   "metadata": {},
   "outputs": [
    {
     "name": "stdout",
     "output_type": "stream",
     "text": [
      "      Column1  Column2\n",
      "Row1        1        4\n",
      "Row2        2        5\n",
      "Row3        3        6\n"
     ]
    }
   ],
   "source": [
    "#Creating a dataFrame\n",
    "df = pd.DataFrame(data,index = [\"Row1\",\"Row2\",\"Row3\"],columns = [\"Column1\",\"Column2\"])\n",
    "print(df)\n"
   ]
  },
  {
   "cell_type": "markdown",
   "id": "d93b9235",
   "metadata": {},
   "source": [
    "Option 2"
   ]
  },
  {
   "cell_type": "code",
   "execution_count": 2,
   "id": "df0ef160",
   "metadata": {},
   "outputs": [],
   "source": [
    "#creating an array with list shape\n",
    "data = [[1,2],[3,4],[5,6]]"
   ]
  },
  {
   "cell_type": "code",
   "execution_count": 6,
   "id": "cc03d37e",
   "metadata": {},
   "outputs": [],
   "source": [
    "#creating dataFrame of from the data\n",
    "df = pd.DataFrame(data,index = [\"Row1\",\"Row2\",\"Row3\"],columns = [\"Column1\",\"Column2\"])"
   ]
  },
  {
   "cell_type": "code",
   "execution_count": 7,
   "id": "2676c057",
   "metadata": {},
   "outputs": [
    {
     "name": "stdout",
     "output_type": "stream",
     "text": [
      "      Column1  Column2\n",
      "Row1        1        2\n",
      "Row2        3        4\n",
      "Row3        5        6\n"
     ]
    }
   ],
   "source": [
    "print(df)"
   ]
  },
  {
   "cell_type": "code",
   "execution_count": null,
   "id": "ff7720a3",
   "metadata": {},
   "outputs": [
    {
     "name": "stdout",
     "output_type": "stream",
     "text": [
      "   id     Name  Age\n",
      "0   1    Alice   25\n",
      "1   2      Bob   30\n",
      "2   3  Charlie   35\n"
     ]
    }
   ],
   "source": [
    "Data = [[1, 'Alice', 25], [2, 'Bob', 30], [3, 'Charlie', 35]]\n",
    "df = pd.DataFrame(Data,columns=['id','Name','Age'])\n",
    "print(df)"
   ]
  },
  {
   "cell_type": "markdown",
   "id": "dc7a5d18",
   "metadata": {},
   "source": [
    "Creating a data frame from a dictionary"
   ]
  },
  {
   "cell_type": "code",
   "execution_count": null,
   "id": "45307abd",
   "metadata": {},
   "outputs": [
    {
     "name": "stdout",
     "output_type": "stream",
     "text": [
      "            Name  Marks    Subject\n",
      "Student1  Hassan     85       Math\n",
      "Student2  Ayesha     90    Physics\n",
      "Student3   Bilal     78  Chemistry\n"
     ]
    }
   ],
   "source": [
    "Data = {\n",
    "    \"Name\":['Hassan', 'Ayesha', 'Bilal'],\n",
    "    \"Marks\" : [85, 90, 78],\n",
    "    \"Subject\": ['Math', 'Physics', 'Chemistry']\n",
    "}\n",
    "df = pd.DataFrame(Data,index = [\"Student1\",\"Student2\",\"Student3\"])\n",
    "print(df)"
   ]
  },
  {
   "cell_type": "code",
   "execution_count": 14,
   "id": "d32b2bcb",
   "metadata": {},
   "outputs": [
    {
     "name": "stdout",
     "output_type": "stream",
     "text": [
      "                   Title               Author  Year Published\n",
      "0                   1984        George Orwell            1949\n",
      "1  To Kill a Mockingbird           Harper Lee            1960\n",
      "2       The Great Gatsby  F. Scott Fitzgerald            1925\n"
     ]
    }
   ],
   "source": [
    "Data = {\n",
    "    \"Title\": ['1984', 'To Kill a Mockingbird', 'The Great Gatsby'],\n",
    "\n",
    "    \"Author\": ['George Orwell', 'Harper Lee', 'F. Scott Fitzgerald'],\n",
    "\n",
    "    \"Year Published\": [1949, 1960, 1925]\n",
    "}\n",
    "df = pd.DataFrame(Data)\n",
    "print(df)"
   ]
  },
  {
   "cell_type": "markdown",
   "id": "291494c1",
   "metadata": {},
   "source": [
    "Reading CSV file"
   ]
  },
  {
   "cell_type": "code",
   "execution_count": 15,
   "id": "018330c6",
   "metadata": {},
   "outputs": [
    {
     "data": {
      "text/html": [
       "<div>\n",
       "<style scoped>\n",
       "    .dataframe tbody tr th:only-of-type {\n",
       "        vertical-align: middle;\n",
       "    }\n",
       "\n",
       "    .dataframe tbody tr th {\n",
       "        vertical-align: top;\n",
       "    }\n",
       "\n",
       "    .dataframe thead th {\n",
       "        text-align: right;\n",
       "    }\n",
       "</style>\n",
       "<table border=\"1\" class=\"dataframe\">\n",
       "  <thead>\n",
       "    <tr style=\"text-align: right;\">\n",
       "      <th></th>\n",
       "      <th>gender</th>\n",
       "      <th>race/ethnicity</th>\n",
       "      <th>parental level of education</th>\n",
       "      <th>lunch</th>\n",
       "      <th>test preparation course</th>\n",
       "      <th>math score</th>\n",
       "      <th>reading score</th>\n",
       "      <th>writing score</th>\n",
       "    </tr>\n",
       "  </thead>\n",
       "  <tbody>\n",
       "    <tr>\n",
       "      <th>0</th>\n",
       "      <td>female</td>\n",
       "      <td>group B</td>\n",
       "      <td>bachelor's degree</td>\n",
       "      <td>standard</td>\n",
       "      <td>none</td>\n",
       "      <td>72</td>\n",
       "      <td>72</td>\n",
       "      <td>74</td>\n",
       "    </tr>\n",
       "    <tr>\n",
       "      <th>1</th>\n",
       "      <td>female</td>\n",
       "      <td>group C</td>\n",
       "      <td>some college</td>\n",
       "      <td>standard</td>\n",
       "      <td>completed</td>\n",
       "      <td>69</td>\n",
       "      <td>90</td>\n",
       "      <td>88</td>\n",
       "    </tr>\n",
       "    <tr>\n",
       "      <th>2</th>\n",
       "      <td>female</td>\n",
       "      <td>group B</td>\n",
       "      <td>master's degree</td>\n",
       "      <td>standard</td>\n",
       "      <td>none</td>\n",
       "      <td>90</td>\n",
       "      <td>95</td>\n",
       "      <td>93</td>\n",
       "    </tr>\n",
       "    <tr>\n",
       "      <th>3</th>\n",
       "      <td>male</td>\n",
       "      <td>group A</td>\n",
       "      <td>associate's degree</td>\n",
       "      <td>free/reduced</td>\n",
       "      <td>none</td>\n",
       "      <td>47</td>\n",
       "      <td>57</td>\n",
       "      <td>44</td>\n",
       "    </tr>\n",
       "    <tr>\n",
       "      <th>4</th>\n",
       "      <td>male</td>\n",
       "      <td>group C</td>\n",
       "      <td>some college</td>\n",
       "      <td>standard</td>\n",
       "      <td>none</td>\n",
       "      <td>76</td>\n",
       "      <td>78</td>\n",
       "      <td>75</td>\n",
       "    </tr>\n",
       "  </tbody>\n",
       "</table>\n",
       "</div>"
      ],
      "text/plain": [
       "   gender race/ethnicity parental level of education         lunch  \\\n",
       "0  female        group B           bachelor's degree      standard   \n",
       "1  female        group C                some college      standard   \n",
       "2  female        group B             master's degree      standard   \n",
       "3    male        group A          associate's degree  free/reduced   \n",
       "4    male        group C                some college      standard   \n",
       "\n",
       "  test preparation course  math score  reading score  writing score  \n",
       "0                    none          72             72             74  \n",
       "1               completed          69             90             88  \n",
       "2                    none          90             95             93  \n",
       "3                    none          47             57             44  \n",
       "4                    none          76             78             75  "
      ]
     },
     "execution_count": 15,
     "metadata": {},
     "output_type": "execute_result"
    }
   ],
   "source": [
    "df_Performance = pd.read_csv(\"./StudentsPerformance.csv\")\n",
    "df_Performance.head()"
   ]
  },
  {
   "cell_type": "code",
   "execution_count": null,
   "id": "f8a009cf",
   "metadata": {},
   "outputs": [],
   "source": []
  }
 ],
 "metadata": {
  "kernelspec": {
   "display_name": "Python 3",
   "language": "python",
   "name": "python3"
  },
  "language_info": {
   "codemirror_mode": {
    "name": "ipython",
    "version": 3
   },
   "file_extension": ".py",
   "mimetype": "text/x-python",
   "name": "python",
   "nbconvert_exporter": "python",
   "pygments_lexer": "ipython3",
   "version": "3.10.7"
  }
 },
 "nbformat": 4,
 "nbformat_minor": 5
}
