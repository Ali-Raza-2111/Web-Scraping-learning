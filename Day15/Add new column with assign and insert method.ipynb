{
 "cells": [
  {
   "cell_type": "code",
   "execution_count": 1,
   "id": "cfd3f3d6",
   "metadata": {},
   "outputs": [],
   "source": [
    "import pandas as pd"
   ]
  },
  {
   "cell_type": "markdown",
   "id": "b2cce62b",
   "metadata": {},
   "source": [
    "Adding data using insert method"
   ]
  },
  {
   "cell_type": "code",
   "execution_count": null,
   "id": "67315dfc",
   "metadata": {},
   "outputs": [],
   "source": [
    "data = {\n",
    "    'Name': ['Alice', 'Bob', 'Charlie', 'David'],\n",
    "    'Age': [25, 30, 35, 40],\n",
    "    'City': ['New York', 'London', 'Paris', 'Tokyo']\n",
    "}\n",
    "df = pd.DataFrame(data)\n",
    "print(\"Original DataFrame:\")\n",
    "print(df)\n",
    "print(\"-\" * 30)\n",
    "#adding new column with assign method\n",
    "df = df.assign(Gender=['Female', 'Male', 'Male', 'Male'])\n",
    "print(\"Adding new column with assign method:\")\n",
    "print(df)"
   ]
  },
  {
   "cell_type": "markdown",
   "id": "8178c5b0",
   "metadata": {},
   "source": [
    "Adding Data using insert method"
   ]
  },
  {
   "cell_type": "code",
   "execution_count": 10,
   "id": "0fafbdf5",
   "metadata": {},
   "outputs": [
    {
     "name": "stdout",
     "output_type": "stream",
     "text": [
      "Original DataFrame:\n",
      "      Name  Age      City\n",
      "0    Alice   25  New York\n",
      "1      Bob   30    London\n",
      "2  Charlie   35     Paris\n",
      "3    David   40     Tokyo\n",
      "------------------------------\n",
      "Adding new column with insert method:\n",
      "      Name  Gender  Age      City\n",
      "0    Alice  Female   25  New York\n",
      "1      Bob    Male   30    London\n",
      "2  Charlie    Male   35     Paris\n",
      "3    David  Female   40     Tokyo\n"
     ]
    }
   ],
   "source": [
    "data = {\n",
    "    'Name': ['Alice', 'Bob', 'Charlie', 'David'],\n",
    "    'Age': [25, 30, 35, 40],\n",
    "    'City': ['New York', 'London', 'Paris', 'Tokyo']\n",
    "}\n",
    "df = pd.DataFrame(data)\n",
    "print(\"Original DataFrame:\")\n",
    "print(df)\n",
    "print(\"-\" * 30)\n",
    "#adding new column with insert method\n",
    "gender_data = ['Female', 'Male', 'Male', 'Female']\n",
    "df.insert(loc=1, column='Gender', value=gender_data)\n",
    "print(\"Adding new column with insert method:\")\n",
    "print(df)"
   ]
  },
  {
   "cell_type": "code",
   "execution_count": null,
   "id": "8a8d42a4",
   "metadata": {},
   "outputs": [],
   "source": []
  }
 ],
 "metadata": {
  "kernelspec": {
   "display_name": "Python 3",
   "language": "python",
   "name": "python3"
  },
  "language_info": {
   "codemirror_mode": {
    "name": "ipython",
    "version": 3
   },
   "file_extension": ".py",
   "mimetype": "text/x-python",
   "name": "python",
   "nbconvert_exporter": "python",
   "pygments_lexer": "ipython3",
   "version": "3.10.7"
  }
 },
 "nbformat": 4,
 "nbformat_minor": 5
}
